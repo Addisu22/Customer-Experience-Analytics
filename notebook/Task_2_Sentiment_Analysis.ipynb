{
 "cells": [
  {
   "cell_type": "code",
   "execution_count": 3,
   "id": "535d7ec7",
   "metadata": {},
   "outputs": [],
   "source": [
    "# %pip install vaderSentiment"
   ]
  },
  {
   "cell_type": "code",
   "execution_count": 4,
   "id": "2830dd4b",
   "metadata": {},
   "outputs": [],
   "source": [
    "from vaderSentiment.vaderSentiment import SentimentIntensityAnalyzer\n",
    "\n",
    "def analyze_sentiment_vader(text):\n",
    "    analyzer = SentimentIntensityAnalyzer()\n",
    "    score = analyzer.polarity_scores(text)\n",
    "    if score['compound'] >= 0.05:\n",
    "        return 'positive', score['compound']\n",
    "    elif score['compound'] <= -0.05:\n",
    "        return 'negative', score['compound']\n",
    "    else:\n",
    "        return 'neutral', score['compound']\n"
   ]
  },
  {
   "cell_type": "code",
   "execution_count": 5,
   "id": "6e4184f7",
   "metadata": {},
   "outputs": [
    {
     "name": "stderr",
     "output_type": "stream",
     "text": [
      "c:\\Users\\Belay\\Customer-Experience-Analytics\\.venv\\Lib\\site-packages\\tqdm\\auto.py:21: TqdmWarning: IProgress not found. Please update jupyter and ipywidgets. See https://ipywidgets.readthedocs.io/en/stable/user_install.html\n",
      "  from .autonotebook import tqdm as notebook_tqdm\n",
      "None of PyTorch, TensorFlow >= 2.0, or Flax have been found. Models won't be available and only tokenizers, configuration and file/data utilities can be used.\n",
      "None of PyTorch, TensorFlow >= 2.0, or Flax have been found. Models won't be available and only tokenizers, configuration and file/data utilities can be used.\n"
     ]
    },
    {
     "name": "stdout",
     "output_type": "stream",
     "text": [
      "Unexpected exception formatting exception. Falling back to standard exception\n"
     ]
    },
    {
     "name": "stderr",
     "output_type": "stream",
     "text": [
      "Traceback (most recent call last):\n",
      "  File \"c:\\Users\\Belay\\Customer-Experience-Analytics\\.venv\\Lib\\site-packages\\IPython\\core\\interactiveshell.py\", line 3672, in run_code\n",
      "    exec(code_obj, self.user_global_ns, self.user_ns)\n",
      "  File \"C:\\Users\\Belay\\AppData\\Local\\Temp\\ipykernel_15088\\838631323.py\", line 1, in <module>\n",
      "    from transformers import pipeline\n",
      "  File \"<frozen importlib._bootstrap>\", line 1231, in _handle_fromlist\n",
      "  File \"c:\\Users\\Belay\\Customer-Experience-Analytics\\.venv\\Lib\\site-packages\\transformers\\utils\\import_utils.py\", line 2045, in __getattr__\n",
      "    module = self._get_module(self._class_to_module[name])\n",
      "             ^^^^^^^^^^^^^^^^^^^^^^^^^^^^^^^^^^^^^^^^^^^^^\n",
      "  File \"c:\\Users\\Belay\\Customer-Experience-Analytics\\.venv\\Lib\\site-packages\\transformers\\utils\\import_utils.py\", line 2075, in _get_module\n",
      "    raise e\n",
      "  File \"c:\\Users\\Belay\\Customer-Experience-Analytics\\.venv\\Lib\\site-packages\\transformers\\utils\\import_utils.py\", line 2073, in _get_module\n",
      "    return importlib.import_module(\".\" + module_name, self.__name__)\n",
      "           ^^^^^^^^^^^^^^^^^^^^^^^^^^^^^^^^^^^^^^^^^^^^^^^^^^^^^^^^^\n",
      "  File \"C:\\Users\\Belay\\AppData\\Local\\Programs\\Python\\Python311\\Lib\\importlib\\__init__.py\", line 126, in import_module\n",
      "    return _bootstrap._gcd_import(name[level:], package, level)\n",
      "           ^^^^^^^^^^^^^^^^^^^^^^^^^^^^^^^^^^^^^^^^^^^^^^^^^^^^\n",
      "  File \"c:\\Users\\Belay\\Customer-Experience-Analytics\\.venv\\Lib\\site-packages\\transformers\\pipelines\\__init__.py\", line 64, in <module>\n",
      "    from .document_question_answering import DocumentQuestionAnsweringPipeline\n",
      "  File \"c:\\Users\\Belay\\Customer-Experience-Analytics\\.venv\\Lib\\site-packages\\transformers\\pipelines\\document_question_answering.py\", line 30, in <module>\n",
      "    from .question_answering import select_starts_ends\n",
      "  File \"c:\\Users\\Belay\\Customer-Experience-Analytics\\.venv\\Lib\\site-packages\\transformers\\pipelines\\question_answering.py\", line 9, in <module>\n",
      "    from ..data import SquadExample, SquadFeatures, squad_convert_examples_to_features\n",
      "  File \"c:\\Users\\Belay\\Customer-Experience-Analytics\\.venv\\Lib\\site-packages\\transformers\\data\\__init__.py\", line 28, in <module>\n",
      "    from .metrics import glue_compute_metrics, xnli_compute_metrics\n",
      "  File \"c:\\Users\\Belay\\Customer-Experience-Analytics\\.venv\\Lib\\site-packages\\transformers\\data\\metrics\\__init__.py\", line 19, in <module>\n",
      "    from scipy.stats import pearsonr, spearmanr\n",
      "  File \"c:\\Users\\Belay\\Customer-Experience-Analytics\\.venv\\Lib\\site-packages\\scipy\\stats\\__init__.py\", line 624, in <module>\n",
      "    from ._stats_py import *\n",
      "  File \"<frozen importlib._bootstrap>\", line 1178, in _find_and_load\n",
      "  File \"<frozen importlib._bootstrap>\", line 1149, in _find_and_load_unlocked\n",
      "  File \"<frozen importlib._bootstrap>\", line 690, in _load_unlocked\n",
      "  File \"<frozen importlib._bootstrap_external>\", line 936, in exec_module\n",
      "  File \"<frozen importlib._bootstrap_external>\", line 1032, in get_code\n",
      "  File \"<frozen importlib._bootstrap_external>\", line 1131, in get_data\n",
      "MemoryError\n",
      "\n",
      "During handling of the above exception, another exception occurred:\n",
      "\n",
      "Traceback (most recent call last):\n",
      "  File \"c:\\Users\\Belay\\Customer-Experience-Analytics\\.venv\\Lib\\site-packages\\IPython\\core\\interactiveshell.py\", line 2178, in showtraceback\n",
      "    stb = self.InteractiveTB.structured_traceback(\n",
      "          ^^^^^^^^^^^^^^^^^^^^^^^^^^^^^^^^^^^^^^^^\n",
      "  File \"c:\\Users\\Belay\\Customer-Experience-Analytics\\.venv\\Lib\\site-packages\\IPython\\core\\ultratb.py\", line 1182, in structured_traceback\n",
      "    return FormattedTB.structured_traceback(\n",
      "           ^^^^^^^^^^^^^^^^^^^^^^^^^^^^^^^^^\n",
      "  File \"c:\\Users\\Belay\\Customer-Experience-Analytics\\.venv\\Lib\\site-packages\\IPython\\core\\ultratb.py\", line 1053, in structured_traceback\n",
      "    return VerboseTB.structured_traceback(\n",
      "           ^^^^^^^^^^^^^^^^^^^^^^^^^^^^^^^\n",
      "  File \"c:\\Users\\Belay\\Customer-Experience-Analytics\\.venv\\Lib\\site-packages\\IPython\\core\\ultratb.py\", line 861, in structured_traceback\n",
      "    formatted_exceptions: list[list[str]] = self.format_exception_as_a_whole(\n",
      "                                            ^^^^^^^^^^^^^^^^^^^^^^^^^^^^^^^^^\n",
      "  File \"c:\\Users\\Belay\\Customer-Experience-Analytics\\.venv\\Lib\\site-packages\\IPython\\core\\ultratb.py\", line 746, in format_exception_as_a_whole\n",
      "    records = self.get_records(etb, context, tb_offset) if etb else []\n",
      "              ^^^^^^^^^^^^^^^^^^^^^^^^^^^^^^^^^^^^^^^^^\n",
      "  File \"c:\\Users\\Belay\\Customer-Experience-Analytics\\.venv\\Lib\\site-packages\\IPython\\core\\ultratb.py\", line 848, in get_records\n",
      "    res = list(stack_data.FrameInfo.stack_data(etb, options=options))[tb_offset:]\n",
      "          ^^^^^^^^^^^^^^^^^^^^^^^^^^^^^^^^^^^^^^^^^^^^^^^^^^^^^^^^^^^\n",
      "  File \"c:\\Users\\Belay\\Customer-Experience-Analytics\\.venv\\Lib\\site-packages\\stack_data\\core.py\", line 597, in stack_data\n",
      "    yield from collapse_repeated(\n",
      "  File \"c:\\Users\\Belay\\Customer-Experience-Analytics\\.venv\\Lib\\site-packages\\stack_data\\utils.py\", line 83, in collapse_repeated\n",
      "    yield from map(mapper, original_group)\n",
      "  File \"c:\\Users\\Belay\\Customer-Experience-Analytics\\.venv\\Lib\\site-packages\\stack_data\\core.py\", line 587, in mapper\n",
      "    return cls(f, options)\n",
      "           ^^^^^^^^^^^^^^^\n",
      "  File \"c:\\Users\\Belay\\Customer-Experience-Analytics\\.venv\\Lib\\site-packages\\stack_data\\core.py\", line 551, in __init__\n",
      "    self.executing = Source.executing(frame_or_tb)\n",
      "                     ^^^^^^^^^^^^^^^^^^^^^^^^^^^^^\n",
      "  File \"c:\\Users\\Belay\\Customer-Experience-Analytics\\.venv\\Lib\\site-packages\\executing\\executing.py\", line 264, in executing\n",
      "    source = cls.for_frame(frame)\n",
      "             ^^^^^^^^^^^^^^^^^^^^\n",
      "  File \"c:\\Users\\Belay\\Customer-Experience-Analytics\\.venv\\Lib\\site-packages\\executing\\executing.py\", line 183, in for_frame\n",
      "    return cls.for_filename(frame.f_code.co_filename, frame.f_globals or {}, use_cache)\n",
      "           ^^^^^^^^^^^^^^^^^^^^^^^^^^^^^^^^^^^^^^^^^^^^^^^^^^^^^^^^^^^^^^^^^^^^^^^^^^^^\n",
      "  File \"c:\\Users\\Belay\\Customer-Experience-Analytics\\.venv\\Lib\\site-packages\\executing\\executing.py\", line 212, in for_filename\n",
      "    return cls._for_filename_and_lines(filename, tuple(lines))\n",
      "           ^^^^^^^^^^^^^^^^^^^^^^^^^^^^^^^^^^^^^^^^^^^^^^^^^^^\n",
      "  File \"c:\\Users\\Belay\\Customer-Experience-Analytics\\.venv\\Lib\\site-packages\\executing\\executing.py\", line 223, in _for_filename_and_lines\n",
      "    result = source_cache[(filename, lines)] = cls(filename, lines)\n",
      "                                               ^^^^^^^^^^^^^^^^^^^^\n",
      "  File \"c:\\Users\\Belay\\Customer-Experience-Analytics\\.venv\\Lib\\site-packages\\executing\\executing.py\", line 153, in __init__\n",
      "    self.text = ''.join(lines)\n",
      "                ^^^^^^^^^^^^^^\n",
      "MemoryError\n"
     ]
    }
   ],
   "source": [
    "from transformers import pipeline\n",
    "\n",
    "def analyze_sentiment_bert(text):\n",
    "    classifier = pipeline(\"sentiment-analysis\", model=\"distilbert-base-uncased-finetuned-sst-2-english\")\n",
    "    result = classifier(text[:512])[0]\n",
    "    label = result['label'].lower()\n",
    "    score = result['score']\n",
    "    return label, score\n"
   ]
  },
  {
   "cell_type": "code",
   "execution_count": 1,
   "id": "7577120d",
   "metadata": {},
   "outputs": [],
   "source": [
    "from sklearn.feature_extraction.text import TfidfVectorizer\n",
    "\n",
    "def extract_keywords(reviews, ngram_range=(1, 2), top_k=20):\n",
    "    tfidf = TfidfVectorizer(stop_words='english', ngram_range=ngram_range)\n",
    "    X = tfidf.fit_transform(reviews)\n",
    "    scores = zip(tfidf.get_feature_names_out(), X.sum(axis=0).tolist()[0])\n",
    "    sorted_scores = sorted(scores, key=lambda x: x[1], reverse=True)\n",
    "    return sorted_scores[:top_k]"
   ]
  },
  {
   "cell_type": "code",
   "execution_count": null,
   "id": "a2f90780",
   "metadata": {},
   "outputs": [],
   "source": [
    "def map_to_theme(keywords):\n",
    "    themes = {\n",
    "        \"Account Access Issues\": [\"login\", \"password\", \"verify\", \"otp\"],\n",
    "        \"Transaction Performance\": [\"slow\", \"transfer\", \"delay\", \"fail\"],\n",
    "        \"UI/UX\": [\"interface\", \"design\", \"navigation\", \"layout\"],\n",
    "        \"Customer Support\": [\"help\", \"support\", \"response\", \"feedback\"],\n",
    "        \"Feature Requests\": [\"add\", \"feature\", \"update\", \"fingerprint\"]\n",
    "    }\n",
    "\n",
    "    mapped = {}\n",
    "    for word in keywords:\n",
    "        for theme, tokens in themes.items():\n",
    "            if any(t in word for t in tokens):\n",
    "                mapped.setdefault(theme, []).append(word)\n",
    "                break\n",
    "    return mapped"
   ]
  },
  {
   "cell_type": "code",
   "execution_count": 3,
   "id": "e89a01c6",
   "metadata": {},
   "outputs": [
    {
     "data": {
      "text/plain": [
       "['review_id',\n",
       " 'review_text',\n",
       " 'bank',\n",
       " 'sentiment_label',\n",
       " 'sentiment_score',\n",
       " 'identified_themes']"
      ]
     },
     "execution_count": 3,
     "metadata": {},
     "output_type": "execute_result"
    }
   ],
   "source": [
    "# DataFrame columns\n",
    "['review_id', 'review_text', 'bank', 'sentiment_label', 'sentiment_score', 'identified_themes']"
   ]
  }
 ],
 "metadata": {
  "kernelspec": {
   "display_name": ".venv",
   "language": "python",
   "name": "python3"
  },
  "language_info": {
   "codemirror_mode": {
    "name": "ipython",
    "version": 3
   },
   "file_extension": ".py",
   "mimetype": "text/x-python",
   "name": "python",
   "nbconvert_exporter": "python",
   "pygments_lexer": "ipython3",
   "version": "3.11.0"
  }
 },
 "nbformat": 4,
 "nbformat_minor": 5
}
