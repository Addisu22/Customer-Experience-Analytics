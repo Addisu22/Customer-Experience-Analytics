{
 "cells": [
  {
   "cell_type": "markdown",
   "id": "79bc8728",
   "metadata": {},
   "source": []
  },
  {
   "cell_type": "code",
   "execution_count": 2,
   "id": "e92fc25c",
   "metadata": {},
   "outputs": [],
   "source": [
    "# %pip install google-play-scraper pandas nltk"
   ]
  },
  {
   "cell_type": "code",
   "execution_count": 3,
   "id": "dcc789af",
   "metadata": {},
   "outputs": [
    {
     "name": "stderr",
     "output_type": "stream",
     "text": [
      "[nltk_data] Downloading package stopwords to\n",
      "[nltk_data]     C:\\Users\\Belay\\AppData\\Roaming\\nltk_data...\n",
      "[nltk_data]   Package stopwords is already up-to-date!\n",
      "[nltk_data] Downloading package wordnet to\n",
      "[nltk_data]     C:\\Users\\Belay\\AppData\\Roaming\\nltk_data...\n"
     ]
    },
    {
     "data": {
      "text/plain": [
       "True"
      ]
     },
     "execution_count": 3,
     "metadata": {},
     "output_type": "execute_result"
    }
   ],
   "source": [
    "# scrape_and_preprocess.py\n",
    "\n",
    "import pandas as pd\n",
    "from google_play_scraper import Sort, reviews\n",
    "import time\n",
    "import re\n",
    "import nltk\n",
    "from nltk.corpus import stopwords\n",
    "from nltk.stem import WordNetLemmatizer\n",
    "\n",
    "# Download NLTK assets once\n",
    "nltk.download('stopwords')\n",
    "nltk.download('wordnet')"
   ]
  },
  {
   "cell_type": "code",
   "execution_count": 4,
   "id": "008e7a02",
   "metadata": {},
   "outputs": [
    {
     "name": "stdout",
     "output_type": "stream",
     "text": [
      "❌ Error during scraping: \"None of [Index(['userName', 'content', 'score', 'at', 'reviewCreatedVersion'], dtype='object')] are in the [columns]\"\n"
     ]
    }
   ],
   "source": [
    "# ========== FUNCTION: Scrape Reviews ==========\n",
    "def fetch_reviews(app_id, total_reviews=200):\n",
    "    all_reviews = []\n",
    "    try:\n",
    "        for _ in range(0, total_reviews, 100):\n",
    "            result, _ = reviews(\n",
    "                app_id,\n",
    "                lang='en',\n",
    "                country='us',\n",
    "                sort=Sort.NEWEST,\n",
    "                count=100\n",
    "            )\n",
    "            all_reviews.extend(result)\n",
    "            time.sleep(1)  # avoid rate limit\n",
    "        df = pd.DataFrame(all_reviews)[['userName', 'content', 'score', 'at', 'reviewCreatedVersion']]\n",
    "        df.drop_duplicates(subset='content', inplace=True)\n",
    "        print(f\"✅ Successfully scraped {len(df)} reviews.\")\n",
    "        return df\n",
    "    except Exception as e:\n",
    "        print(f\"❌ Error during scraping: {e}\")\n",
    "        return pd.DataFrame()\n",
    "\n",
    "# ========== FUNCTION: Clean and Preprocess Text ==========\n",
    "def clean_text(text):\n",
    "    try:\n",
    "        # Remove URLs, special characters, and lowercase\n",
    "        text = re.sub(r\"http\\S+|[^a-zA-Z\\s]\", \"\", text.lower())\n",
    "        stop_words = set(stopwords.words('english'))\n",
    "        lemmatizer = WordNetLemmatizer()\n",
    "        words = text.split()\n",
    "        words = [lemmatizer.lemmatize(w) for w in words if w not in stop_words]\n",
    "        return \" \".join(words)\n",
    "    except Exception as e:\n",
    "        print(f\"❌ Error cleaning text: {e}\")\n",
    "        return \"\"\n",
    "\n",
    "# ========== FUNCTION: Apply Preprocessing ==========\n",
    "def preprocess_reviews(df):\n",
    "    try:\n",
    "        df['clean_text'] = df['content'].apply(clean_text)\n",
    "        return df\n",
    "    except Exception as e:\n",
    "        print(f\"❌ Error preprocessing reviews: {e}\")\n",
    "        return df\n",
    "\n",
    "# ========== MAIN EXECUTION ==========\n",
    "if __name__ == \"__main__\":\n",
    "    # Example for Commercial Bank of Ethiopia (CBE) app ID\n",
    "    app_id = 'com.cbe.mobile'\n",
    "    \n",
    "    # Step 1: Scrape Reviews\n",
    "    reviews_df = fetch_reviews(app_id, total_reviews=300)\n",
    "    \n",
    "    if not reviews_df.empty:\n",
    "        # Step 2: Preprocess Text\n",
    "        cleaned_df = preprocess_reviews(reviews_df)\n",
    "\n",
    "        # Step 3: Save for analysis\n",
    "        cleaned_df.to_csv(\"cbe_reviews_cleaned.csv\", index=False)\n",
    "        print(\"✅ Saved cleaned reviews to 'cbe_reviews_cleaned.csv'.\")\n"
   ]
  }
 ],
 "metadata": {
  "kernelspec": {
   "display_name": ".venv",
   "language": "python",
   "name": "python3"
  },
  "language_info": {
   "codemirror_mode": {
    "name": "ipython",
    "version": 3
   },
   "file_extension": ".py",
   "mimetype": "text/x-python",
   "name": "python",
   "nbconvert_exporter": "python",
   "pygments_lexer": "ipython3",
   "version": "3.11.0"
  }
 },
 "nbformat": 4,
 "nbformat_minor": 5
}
