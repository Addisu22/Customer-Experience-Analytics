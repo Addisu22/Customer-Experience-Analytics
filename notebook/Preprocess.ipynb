{
 "cells": [
  {
   "cell_type": "code",
   "execution_count": null,
   "id": "a084cbcb",
   "metadata": {},
   "outputs": [],
   "source": []
  },
  {
   "cell_type": "code",
   "execution_count": null,
   "id": "65aa9bcc",
   "metadata": {},
   "outputs": [],
   "source": []
  },
  {
   "cell_type": "code",
   "execution_count": 26,
   "id": "493f8451",
   "metadata": {},
   "outputs": [],
   "source": [
    "from google_play_scraper import Sort, reviews\n",
    "import pandas as pd\n",
    "\n",
    "def scrape_reviews(app_id, bank_name, lang='en', count=400):\n",
    "    # scraping review from Play_Store\n",
    "    all_reviews = []\n",
    "    try:\n",
    "        result, _ = reviews(\n",
    "            app_id,\n",
    "            lang=lang,        # defaults to 'en'\n",
    "            count=count,\n",
    "            sort=Sort.NEWEST  # defaults to Sort.NEWEST\n",
    "        )\n",
    "        # Creating DataFrame from reviews data\n",
    "        for entry in result:\n",
    "            all_reviews.append({\n",
    "                'Review Description': entry.get('content', ''),\n",
    "                 'User': entry.get('userName', 'Anonymous'),\n",
    "                'Rating': entry.get('score', None),\n",
    "                'Date': entry.get('at', None),\n",
    "                'Bank': bank_name,\n",
    "                'Source': 'Google Play Store'\n",
    "            })\n",
    "        print(f\"✅ Scraped {len(all_reviews)} reviews for {bank_name}\")\n",
    "    except Exception as e:\n",
    "        print(f\"❌ Failed to scrape {bank_name}: {e}\")\n",
    "    return all_reviews\n"
   ]
  },
  {
   "cell_type": "code",
   "execution_count": 27,
   "id": "1e9f6260",
   "metadata": {},
   "outputs": [
    {
     "name": "stdout",
     "output_type": "stream",
     "text": [
      "✅ Scraped 400 reviews for CBE\n",
      "✅ Scraped 400 reviews for BOA\n",
      "✅ Scraped 400 reviews for Dashen\n"
     ]
    }
   ],
   "source": [
    "if __name__ == \"__main__\":\n",
    "    apps = {\n",
    "        \"CBE\": \"com.combanketh.mobilebanking\",\n",
    "        \"BOA\": \"com.boa.boaMobileBanking\",\n",
    "        \"Dashen\": \"com.dashen.dashensuperapp\"\n",
    "    }\n",
    "\n",
    "    all_data = []\n",
    "    for bank, app_id in apps.items():\n",
    "        all_data.extend(scrape_reviews(app_id, bank))\n",
    "\n",
    "    df = pd.DataFrame(all_data)\n",
    "    df.to_csv(\"raw_reviews.csv\", index=False)\n"
   ]
  },
  {
   "cell_type": "code",
   "execution_count": 28,
   "id": "73cea26a",
   "metadata": {},
   "outputs": [
    {
     "data": {
      "text/html": [
       "<div>\n",
       "<style scoped>\n",
       "    .dataframe tbody tr th:only-of-type {\n",
       "        vertical-align: middle;\n",
       "    }\n",
       "\n",
       "    .dataframe tbody tr th {\n",
       "        vertical-align: top;\n",
       "    }\n",
       "\n",
       "    .dataframe thead th {\n",
       "        text-align: right;\n",
       "    }\n",
       "</style>\n",
       "<table border=\"1\" class=\"dataframe\">\n",
       "  <thead>\n",
       "    <tr style=\"text-align: right;\">\n",
       "      <th></th>\n",
       "      <th>Review Description</th>\n",
       "      <th>User</th>\n",
       "      <th>Rating</th>\n",
       "      <th>Date</th>\n",
       "      <th>Bank</th>\n",
       "      <th>Source</th>\n",
       "    </tr>\n",
       "  </thead>\n",
       "  <tbody>\n",
       "    <tr>\n",
       "      <th>0</th>\n",
       "      <td>really am happy to this app it is Siple to use...</td>\n",
       "      <td>Hussein Seifu</td>\n",
       "      <td>5</td>\n",
       "      <td>2025-06-07 11:02:38</td>\n",
       "      <td>CBE</td>\n",
       "      <td>Google Play Store</td>\n",
       "    </tr>\n",
       "    <tr>\n",
       "      <th>1</th>\n",
       "      <td>I liked this app. But the User interface is ve...</td>\n",
       "      <td>Adonijah</td>\n",
       "      <td>2</td>\n",
       "      <td>2025-06-07 10:50:29</td>\n",
       "      <td>CBE</td>\n",
       "      <td>Google Play Store</td>\n",
       "    </tr>\n",
       "    <tr>\n",
       "      <th>2</th>\n",
       "      <td>\"Why don’t your ATMs support account-to-accoun...</td>\n",
       "      <td>Aim4 Beyond</td>\n",
       "      <td>4</td>\n",
       "      <td>2025-06-06 09:54:11</td>\n",
       "      <td>CBE</td>\n",
       "      <td>Google Play Store</td>\n",
       "    </tr>\n",
       "    <tr>\n",
       "      <th>3</th>\n",
       "      <td>what is this app problem???</td>\n",
       "      <td>zakir man</td>\n",
       "      <td>1</td>\n",
       "      <td>2025-06-05 22:16:56</td>\n",
       "      <td>CBE</td>\n",
       "      <td>Google Play Store</td>\n",
       "    </tr>\n",
       "    <tr>\n",
       "      <th>4</th>\n",
       "      <td>the app is proactive and a good connections.</td>\n",
       "      <td>Yesuf Ahmed</td>\n",
       "      <td>5</td>\n",
       "      <td>2025-06-05 15:55:10</td>\n",
       "      <td>CBE</td>\n",
       "      <td>Google Play Store</td>\n",
       "    </tr>\n",
       "    <tr>\n",
       "      <th>...</th>\n",
       "      <td>...</td>\n",
       "      <td>...</td>\n",
       "      <td>...</td>\n",
       "      <td>...</td>\n",
       "      <td>...</td>\n",
       "      <td>...</td>\n",
       "    </tr>\n",
       "    <tr>\n",
       "      <th>1195</th>\n",
       "      <td>Dashen yichalal. Ewnetem one step a head</td>\n",
       "      <td>Mahilet Eshetu</td>\n",
       "      <td>5</td>\n",
       "      <td>2025-01-17 20:10:52</td>\n",
       "      <td>Dashen</td>\n",
       "      <td>Google Play Store</td>\n",
       "    </tr>\n",
       "    <tr>\n",
       "      <th>1196</th>\n",
       "      <td>It has a Good performance but need more upgrad...</td>\n",
       "      <td>Leul Tube</td>\n",
       "      <td>4</td>\n",
       "      <td>2025-01-17 20:04:25</td>\n",
       "      <td>Dashen</td>\n",
       "      <td>Google Play Store</td>\n",
       "    </tr>\n",
       "    <tr>\n",
       "      <th>1197</th>\n",
       "      <td>It is a very wonderful work that has saved its...</td>\n",
       "      <td>Fantabil Deresse</td>\n",
       "      <td>5</td>\n",
       "      <td>2025-01-17 12:04:57</td>\n",
       "      <td>Dashen</td>\n",
       "      <td>Google Play Store</td>\n",
       "    </tr>\n",
       "    <tr>\n",
       "      <th>1198</th>\n",
       "      <td>“Life-changing!” I can’t imagine going back to...</td>\n",
       "      <td>Dawit Alemayehu</td>\n",
       "      <td>5</td>\n",
       "      <td>2025-01-17 10:18:44</td>\n",
       "      <td>Dashen</td>\n",
       "      <td>Google Play Store</td>\n",
       "    </tr>\n",
       "    <tr>\n",
       "      <th>1199</th>\n",
       "      <td>Pro max</td>\n",
       "      <td>Meba Abiye</td>\n",
       "      <td>5</td>\n",
       "      <td>2025-01-17 08:04:15</td>\n",
       "      <td>Dashen</td>\n",
       "      <td>Google Play Store</td>\n",
       "    </tr>\n",
       "  </tbody>\n",
       "</table>\n",
       "<p>1200 rows × 6 columns</p>\n",
       "</div>"
      ],
      "text/plain": [
       "                                     Review Description              User  \\\n",
       "0     really am happy to this app it is Siple to use...     Hussein Seifu   \n",
       "1     I liked this app. But the User interface is ve...          Adonijah   \n",
       "2     \"Why don’t your ATMs support account-to-accoun...       Aim4 Beyond   \n",
       "3                           what is this app problem???         zakir man   \n",
       "4          the app is proactive and a good connections.       Yesuf Ahmed   \n",
       "...                                                 ...               ...   \n",
       "1195           Dashen yichalal. Ewnetem one step a head    Mahilet Eshetu   \n",
       "1196  It has a Good performance but need more upgrad...         Leul Tube   \n",
       "1197  It is a very wonderful work that has saved its...  Fantabil Deresse   \n",
       "1198  “Life-changing!” I can’t imagine going back to...   Dawit Alemayehu   \n",
       "1199                                            Pro max        Meba Abiye   \n",
       "\n",
       "      Rating                 Date    Bank             Source  \n",
       "0          5  2025-06-07 11:02:38     CBE  Google Play Store  \n",
       "1          2  2025-06-07 10:50:29     CBE  Google Play Store  \n",
       "2          4  2025-06-06 09:54:11     CBE  Google Play Store  \n",
       "3          1  2025-06-05 22:16:56     CBE  Google Play Store  \n",
       "4          5  2025-06-05 15:55:10     CBE  Google Play Store  \n",
       "...      ...                  ...     ...                ...  \n",
       "1195       5  2025-01-17 20:10:52  Dashen  Google Play Store  \n",
       "1196       4  2025-01-17 20:04:25  Dashen  Google Play Store  \n",
       "1197       5  2025-01-17 12:04:57  Dashen  Google Play Store  \n",
       "1198       5  2025-01-17 10:18:44  Dashen  Google Play Store  \n",
       "1199       5  2025-01-17 08:04:15  Dashen  Google Play Store  \n",
       "\n",
       "[1200 rows x 6 columns]"
      ]
     },
     "execution_count": 28,
     "metadata": {},
     "output_type": "execute_result"
    }
   ],
   "source": [
    "df_app = pd.read_csv(\"raw_reviews.csv\")\n",
    "df_app"
   ]
  },
  {
   "cell_type": "code",
   "execution_count": 10,
   "id": "5c69b081",
   "metadata": {},
   "outputs": [
    {
     "data": {
      "text/plain": [
       "(1200, 5)"
      ]
     },
     "execution_count": 10,
     "metadata": {},
     "output_type": "execute_result"
    }
   ],
   "source": [
    "df_app.shape"
   ]
  },
  {
   "cell_type": "code",
   "execution_count": 11,
   "id": "7f7f0b00",
   "metadata": {},
   "outputs": [
    {
     "name": "stdout",
     "output_type": "stream",
     "text": [
      "<class 'pandas.core.frame.DataFrame'>\n",
      "RangeIndex: 1200 entries, 0 to 1199\n",
      "Data columns (total 5 columns):\n",
      " #   Column  Non-Null Count  Dtype \n",
      "---  ------  --------------  ----- \n",
      " 0   review  1200 non-null   object\n",
      " 1   rating  1200 non-null   int64 \n",
      " 2   date    1200 non-null   object\n",
      " 3   bank    1200 non-null   object\n",
      " 4   source  1200 non-null   object\n",
      "dtypes: int64(1), object(4)\n",
      "memory usage: 47.0+ KB\n"
     ]
    }
   ],
   "source": [
    "df_app.info()"
   ]
  }
 ],
 "metadata": {
  "kernelspec": {
   "display_name": ".venv",
   "language": "python",
   "name": "python3"
  },
  "language_info": {
   "codemirror_mode": {
    "name": "ipython",
    "version": 3
   },
   "file_extension": ".py",
   "mimetype": "text/x-python",
   "name": "python",
   "nbconvert_exporter": "python",
   "pygments_lexer": "ipython3",
   "version": "3.11.0"
  }
 },
 "nbformat": 4,
 "nbformat_minor": 5
}
