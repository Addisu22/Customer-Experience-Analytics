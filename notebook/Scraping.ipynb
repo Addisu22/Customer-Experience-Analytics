{
 "cells": [
  {
   "cell_type": "code",
   "execution_count": null,
   "id": "d280e11f",
   "metadata": {},
   "outputs": [],
   "source": []
  },
  {
   "cell_type": "code",
   "execution_count": 1,
   "id": "349b5fb4",
   "metadata": {},
   "outputs": [
    {
     "name": "stderr",
     "output_type": "stream",
     "text": [
      "Scraping Chase: 100%|██████████| 400/400 [00:11<00:00, 33.52it/s] \n",
      "Scraping Bank of America: 100%|██████████| 400/400 [00:47<00:00,  8.35it/s] \n",
      "Scraping Wells Fargo: 100%|██████████| 400/400 [00:12<00:00, 32.27it/s]"
     ]
    },
    {
     "name": "stdout",
     "output_type": "stream",
     "text": [
      "Saved 1102 reviews to bank_reviews.csv\n"
     ]
    },
    {
     "name": "stderr",
     "output_type": "stream",
     "text": [
      "\n"
     ]
    }
   ],
   "source": [
    "from google_play_scraper import reviews, Sort\n",
    "import pandas as pd\n",
    "from tqdm import tqdm\n",
    "import time\n",
    "from datetime import datetime\n",
    "\n",
    "BANKS = {\n",
    "    \"Chase\": \"com.chase.sig.android\",\n",
    "    \"Bank of America\": \"com.infonow.bofa\",\n",
    "    \"Wells Fargo\": \"com.wf.wellsfargomobile\"\n",
    "}\n",
    "\n",
    "def scrape_reviews(app_id: str, bank_name: str, count: int = 400) -> pd.DataFrame:\n",
    "    \"\"\"Scrape reviews with rate limiting and error handling\"\"\"\n",
    "    all_reviews = []\n",
    "    continuation_token = None\n",
    "    \n",
    "    with tqdm(total=count, desc=f\"Scraping {bank_name}\") as pbar:\n",
    "        while len(all_reviews) < count:\n",
    "            try:\n",
    "                result, continuation_token = reviews(\n",
    "                    app_id,\n",
    "                    lang='en',\n",
    "                    count=min(100, count - len(all_reviews)),\n",
    "                    sort=Sort.NEWEST,\n",
    "                    continuation_token=continuation_token\n",
    "                )\n",
    "                \n",
    "                if not result:\n",
    "                    break\n",
    "                    \n",
    "                for review in result:\n",
    "                    all_reviews.append({\n",
    "                        'review': review.get('content', '').strip(),\n",
    "                        'rating': review.get('score', 0),\n",
    "                        'date': review.get('at', datetime.now()).strftime('%Y-%m-%d'),\n",
    "                        'bank': bank_name,\n",
    "                        'source': 'Google Play Store'\n",
    "                    })\n",
    "                \n",
    "                pbar.update(len(result))\n",
    "                time.sleep(2)  # Rate limiting\n",
    "                \n",
    "            except Exception as e:\n",
    "                print(f\"Error: {e}\")\n",
    "                time.sleep(30)\n",
    "    \n",
    "    return pd.DataFrame(all_reviews)\n",
    "\n",
    "def main():\n",
    "    all_data = pd.DataFrame()\n",
    "    for bank_name, app_id in BANKS.items():\n",
    "        df = scrape_reviews(app_id, bank_name)\n",
    "        all_data = pd.concat([all_data, df], ignore_index=True)\n",
    "    \n",
    "    # Preprocessing\n",
    "    all_data = all_data.drop_duplicates(subset=['review', 'bank'])\n",
    "    all_data = all_data.dropna(subset=['review'])\n",
    "    all_data.to_csv('bank_reviews.csv', index=False)\n",
    "    print(f\"Saved {len(all_data)} reviews to bank_reviews.csv\")\n",
    "\n",
    "if __name__ == \"__main__\":\n",
    "    main()"
   ]
  },
  {
   "cell_type": "code",
   "execution_count": 3,
   "id": "89620a7f",
   "metadata": {},
   "outputs": [
    {
     "name": "stdout",
     "output_type": "stream",
     "text": [
      "Cleaned data saved to clean_reviews.csv\n",
      "Final stats:\n",
      "bank\n",
      "Wells Fargo        358\n",
      "Chase              355\n",
      "Bank of America    353\n",
      "Name: count, dtype: int64\n"
     ]
    }
   ],
   "source": [
    "import pandas as pd\n",
    "from datetime import datetime\n",
    "\n",
    "def preprocess_reviews(input_file='bank_reviews.csv', output_file='clean_reviews.csv'):\n",
    "    \"\"\"Data cleaning pipeline\"\"\"\n",
    "    df = pd.read_csv(input_file)\n",
    "    \n",
    "    # 1. Handle missing data\n",
    "    df = df.dropna(subset=['review'])\n",
    "    df['rating'] = df['rating'].fillna(0).astype(int)\n",
    "    \n",
    "    # 2. Normalize dates\n",
    "    df['date'] = pd.to_datetime(df['date'], errors='coerce').dt.strftime('%Y-%m-%d')\n",
    "    \n",
    "    # 3. Text cleaning\n",
    "    df['review'] = df['review'].str.strip()\n",
    "    df = df[df['review'].str.len() > 5]  # Remove empty/short reviews\n",
    "    \n",
    "    # 4. Save cleaned data\n",
    "    df.to_csv(output_file, index=False)\n",
    "    print(f\"Cleaned data saved to {output_file}\")\n",
    "    print(f\"Final stats:\\n{df['bank'].value_counts()}\")\n",
    "    return df\n",
    "\n",
    "if __name__ == \"__main__\":\n",
    "    preprocess_reviews()"
   ]
  },
  {
   "cell_type": "code",
   "execution_count": null,
   "id": "28dfbdb1",
   "metadata": {},
   "outputs": [],
   "source": []
  }
 ],
 "metadata": {
  "kernelspec": {
   "display_name": ".venv",
   "language": "python",
   "name": "python3"
  },
  "language_info": {
   "codemirror_mode": {
    "name": "ipython",
    "version": 3
   },
   "file_extension": ".py",
   "mimetype": "text/x-python",
   "name": "python",
   "nbconvert_exporter": "python",
   "pygments_lexer": "ipython3",
   "version": "3.11.0"
  }
 },
 "nbformat": 4,
 "nbformat_minor": 5
}
