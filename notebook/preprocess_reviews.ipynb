{
 "cells": [
  {
   "cell_type": "code",
   "execution_count": null,
   "id": "39bd5d0e",
   "metadata": {},
   "outputs": [],
   "source": []
  },
  {
   "cell_type": "code",
   "execution_count": null,
   "id": "af9aa500",
   "metadata": {},
   "outputs": [
    {
     "name": "stdout",
     "output_type": "stream",
     "text": [
      "❌ Preprocessing failed: [Errno 2] No such file or directory: 'raw_reviews.csv'\n"
     ]
    }
   ],
   "source": [
    "import pandas as pd\n",
    "\n",
    "def clean_reviews(input_file, output_file):\n",
    "    try:\n",
    "        df = pd.read_csv(input_file)\n",
    "\n",
    "        # Drop duplicates and missing\n",
    "        df.drop_duplicates(subset='review', inplace=True)\n",
    "        df.dropna(subset=['review', 'rating', 'date'], inplace=True)\n",
    "\n",
    "        # Normalize date\n",
    "        df['date'] = pd.to_datetime(df['date']).dt.date\n",
    "\n",
    "        # Save cleaned\n",
    "        df = df[['review', 'rating', 'date', 'bank', 'source']]\n",
    "        df.to_csv(output_file, index=False)\n",
    "\n",
    "        print(f\"✅ Cleaned data saved to {output_file}\")\n",
    "        print(f\"📊 Final rows: {len(df)}, Missing data: {df.isnull().sum().sum()}\")\n",
    "    except Exception as e:\n",
    "        print(f\"❌ Preprocessing failed: {e}\")\n",
    "\n",
    "if __name__ == \"__main__\":\n",
    "    clean_reviews(\"raw_reviews.csv\", \"clean_reviews.csv\")\n"
   ]
  }
 ],
 "metadata": {
  "kernelspec": {
   "display_name": ".venv",
   "language": "python",
   "name": "python3"
  },
  "language_info": {
   "codemirror_mode": {
    "name": "ipython",
    "version": 3
   },
   "file_extension": ".py",
   "mimetype": "text/x-python",
   "name": "python",
   "nbconvert_exporter": "python",
   "pygments_lexer": "ipython3",
   "version": "3.11.0"
  }
 },
 "nbformat": 4,
 "nbformat_minor": 5
}
